{
 "cells": [
  {
   "cell_type": "code",
   "execution_count": null,
   "metadata": {},
   "outputs": [],
   "source": [
    "#20. Plot a bar chart to visualize the number of employees in each department using Matplotlib.\n",
    "import pandas as pd\n",
    "import matplotlib.pyplot as plt\n",
    "\n",
    "# Load the dataset\n",
    "data = pd.read_csv(r\"D:\\text\\Copy of Screenshot 2025-03-28 072452(1).csv\")\n",
    "\n",
    "# Count the number of employees in each department\n",
    "department_employee_count = data['Department'].value_counts()\n",
    "\n",
    "# Plot the bar chart\n",
    "department_employee_count.plot(kind='bar', color='lightgreen', edgecolor='black')\n",
    "plt.title('Number of Employees in Each Department')\n",
    "plt.xlabel('Department')\n",
    "plt.ylabel('Number of Employees')\n",
    "plt.show()"
   ]
  },
  {
   "cell_type": "code",
   "execution_count": null,
   "metadata": {},
   "outputs": [],
   "source": [
    "#21. Filter out employees with a salary greater than 60,000 using Pandas.\n",
    "import pandas as pd\n",
    "\n",
    "# Load the dataset\n",
    "data = pd.read_csv(r\"D:\\text\\Copy of Screenshot 2025-03-28 072452(1).csv\")\n",
    "\n",
    "# Filter employees with salary greater than 60,000\n",
    "filtered_employees = data[data['Salary'] > 60000]\n",
    "\n",
    "print(filtered_employees)"
   ]
  },
  {
   "cell_type": "code",
   "execution_count": null,
   "metadata": {},
   "outputs": [],
   "source": [
    "# 22.  Create a line graph for the salary trend by department\n",
    "import pandas as pd\n",
    "import matplotlib.pyplot as plt\n",
    "\n",
    "# Load the dataset\n",
    "data = pd.read_csv(r\"D:\\text\\Copy of Screenshot 2025-03-28 072452(1).csv\")\n",
    "\n",
    "# Group by department and calculate the average salary\n",
    "department_salary_trend = data.groupby('Department')['Salary'].mean()\n",
    "\n",
    "# Plot the line graph\n",
    "department_salary_trend.plot(kind='line', marker='o', color='blue')\n",
    "plt.title('Salary Trend by Department')\n",
    "plt.xlabel('Department')\n",
    "plt.ylabel('Average Salary')\n",
    "plt.show()"
   ]
  }
 ],
 "metadata": {
  "language_info": {
   "name": "python"
  }
 },
 "nbformat": 4,
 "nbformat_minor": 2
}
