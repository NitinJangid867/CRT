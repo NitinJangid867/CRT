{
 "cells": [
  {
   "cell_type": "code",
   "execution_count": null,
   "id": "65785041-66f2-4f08-a0e8-89e86d77f683",
   "metadata": {},
   "outputs": [],
   "source": [
    "keys = ['name', 'age', 'city']\n",
    "values = ['Alice', 25, 'New York']\n",
    "\n",
    "merge_lists = lambda k, v: dict(zip(k, v))\n",
    "\n",
    "result = merge_lists(keys, values)\n",
    "print(result)\n"
   ]
  },
  {
   "cell_type": "code",
   "execution_count": null,
   "id": "509a9d09-8222-447d-98ed-606cca0e98cf",
   "metadata": {},
   "outputs": [],
   "source": [
    "class Product:\n",
    "    discount_rate = 0.1\n",
    "\n",
    "    def __init__(self, name, price):\n",
    "        self.name = name\n",
    "        self.price = price\n",
    "\n",
    "    def discounted_price(self):\n",
    "        return self.price * (1 - Product.discount_rate)\n",
    "\n",
    "product = Product(\"Laptop\", 1000)\n",
    "print(f\"Discounted price of {product.name}: ${product.discounted_price():.2f}\")\n"
   ]
  },
  {
   "cell_type": "code",
   "execution_count": null,
   "id": "4c67119a-48a6-4b56-b3d2-e9ab9fb34e75",
   "metadata": {},
   "outputs": [],
   "source": []
  },
  {
   "cell_type": "code",
   "execution_count": null,
   "id": "2aa7adb1-2fb0-4c28-adf1-02faf6196bd9",
   "metadata": {},
   "outputs": [],
   "source": []
  },
  {
   "cell_type": "code",
   "execution_count": null,
   "id": "5dcf1298-6cfb-41a4-8003-2070d0663d14",
   "metadata": {},
   "outputs": [],
   "source": []
  }
 ],
 "metadata": {
  "kernelspec": {
   "display_name": "Python 3 (ipykernel)",
   "language": "python",
   "name": "python3"
  },
  "language_info": {
   "codemirror_mode": {
    "name": "ipython",
    "version": 3
   },
   "file_extension": ".py",
   "mimetype": "text/x-python",
   "name": "python",
   "nbconvert_exporter": "python",
   "pygments_lexer": "ipython3",
   "version": "3.11.7"
  }
 },
 "nbformat": 4,
 "nbformat_minor": 5
}
